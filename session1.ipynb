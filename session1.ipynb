{
 "cells": [
  {
   "cell_type": "code",
   "execution_count": null,
   "id": "81bdaaec-287b-4c50-ab5b-66cc77d30007",
   "metadata": {},
   "outputs": [],
   "source": [
    "a=10\n",
    "b=20\n",
    "c=a+b\n",
    "c"
   ]
  },
  {
   "cell_type": "code",
   "execution_count": null,
   "id": "864c6ebe-12bd-47a9-8b84-ba6060c27eaf",
   "metadata": {},
   "outputs": [],
   "source": [
    "a=100\n",
    "b=200\n",
    "c=a+b\n",
    "c"
   ]
  },
  {
   "cell_type": "code",
   "execution_count": null,
   "id": "a989d7f7-eea3-48da-b5a0-c2b9e446a1a0",
   "metadata": {},
   "outputs": [],
   "source": [
    "n1=10\n",
    "n2=20\n",
    "n3=n1+n2\n",
    "n3"
   ]
  },
  {
   "cell_type": "code",
   "execution_count": null,
   "id": "6bf8ea0a-9aec-4120-9ed7-38a852cf5ea5",
   "metadata": {},
   "outputs": [],
   "source": [
    "n3"
   ]
  },
  {
   "cell_type": "code",
   "execution_count": null,
   "id": "fbcc7eda-e0d8-4a96-8431-9892c9730029",
   "metadata": {},
   "outputs": [],
   "source": [
    "c"
   ]
  },
  {
   "cell_type": "code",
   "execution_count": null,
   "id": "f1c5a061-44d3-421c-91c9-b17548be8099",
   "metadata": {},
   "outputs": [],
   "source": []
  },
  {
   "cell_type": "markdown",
   "id": "9fec1513-416e-432c-bf14-cdae3aac3f95",
   "metadata": {},
   "source": [
    "iam learnig python today"
   ]
  },
  {
   "cell_type": "markdown",
   "id": "7df964d3-5396-4113-a28f-b7de9e0a6c27",
   "metadata": {},
   "source": [
    "# python"
   ]
  },
  {
   "cell_type": "markdown",
   "id": "c505e978-c78f-46fc-94f0-abbe046d3da6",
   "metadata": {},
   "source": [
    "## python\n",
    "### python\n",
    "#### code mode to mardown:esc+m\n",
    "##### markdowmn to code mode esc+y"
   ]
  },
  {
   "cell_type": "markdown",
   "id": "d9c9df9c-f27c-4f07-afc0-e912740677e7",
   "metadata": {},
   "source": [
    "- today i learn how to create ajupyter notebook\n",
    "- i created a folder\n",
    "- tommorow onwords i created i will \n",
    "- i understood kernal\n",
    "- i also learn how to run the code cell\n",
    "- i also learn how to wrtie story yhis is called markdown\n"
   ]
  },
  {
   "cell_type": "code",
   "execution_count": null,
   "id": "b3d418d3-b6be-4d2c-90e0-be146eefbe7b",
   "metadata": {},
   "outputs": [],
   "source": []
  }
 ],
 "metadata": {
  "kernelspec": {
   "display_name": "Python 3 (ipykernel)",
   "language": "python",
   "name": "python3"
  },
  "language_info": {
   "codemirror_mode": {
    "name": "ipython",
    "version": 3
   },
   "file_extension": ".py",
   "mimetype": "text/x-python",
   "name": "python",
   "nbconvert_exporter": "python",
   "pygments_lexer": "ipython3",
   "version": "3.12.4"
  }
 },
 "nbformat": 4,
 "nbformat_minor": 5
}
