{
 "cells": [
  {
   "cell_type": "markdown",
   "id": "d12261b1-1339-4602-bded-332539fa313c",
   "metadata": {},
   "source": [
    "**Index-Find**\n",
    "- index says that it will give the index of the "
   ]
  },
  {
   "cell_type": "code",
   "execution_count": 1,
   "id": "eef0cbd4-07ba-46d3-a775-b821e4f59d9f",
   "metadata": {},
   "outputs": [
    {
     "data": {
      "text/plain": [
       "1"
      ]
     },
     "execution_count": 1,
     "metadata": {},
     "output_type": "execute_result"
    }
   ],
   "source": [
    "str1='hai hai hai'\n",
    "str1.index('a')"
   ]
  },
  {
   "cell_type": "code",
   "execution_count": 3,
   "id": "ab16d479-5684-4d79-a89c-f2d5b38a82e8",
   "metadata": {},
   "outputs": [
    {
     "data": {
      "text/plain": [
       "5"
      ]
     },
     "execution_count": 3,
     "metadata": {},
     "output_type": "execute_result"
    }
   ],
   "source": [
    "str1.index('a',3)"
   ]
  },
  {
   "cell_type": "code",
   "execution_count": 11,
   "id": "f8a4edb4-3f7b-415e-b3c5-649ece7c59d3",
   "metadata": {},
   "outputs": [
    {
     "data": {
      "text/plain": [
       "5"
      ]
     },
     "execution_count": 11,
     "metadata": {},
     "output_type": "execute_result"
    }
   ],
   "source": [
    "str1.index('a',3,7)"
   ]
  },
  {
   "cell_type": "markdown",
   "id": "04d15592-8d7f-4fd6-bf11-9ca6958d03f3",
   "metadata": {},
   "source": []
  },
  {
   "cell_type": "code",
   "execution_count": 13,
   "id": "3de657d4-df22-429c-8ef5-db7a4e602fda",
   "metadata": {},
   "outputs": [
    {
     "data": {
      "text/plain": [
       "0"
      ]
     },
     "execution_count": 13,
     "metadata": {},
     "output_type": "execute_result"
    }
   ],
   "source": [
    "str1.index(str1)"
   ]
  },
  {
   "cell_type": "code",
   "execution_count": 15,
   "id": "b7d620c3-4222-45de-b037-af757cecb7f8",
   "metadata": {},
   "outputs": [
    {
     "data": {
      "text/plain": [
       "0"
      ]
     },
     "execution_count": 15,
     "metadata": {},
     "output_type": "execute_result"
    }
   ],
   "source": [
    "str1.index('h')"
   ]
  },
  {
   "cell_type": "code",
   "execution_count": 17,
   "id": "e65f2883-8100-4775-ba7e-36a5e24453c2",
   "metadata": {},
   "outputs": [
    {
     "data": {
      "text/plain": [
       "5"
      ]
     },
     "execution_count": 17,
     "metadata": {},
     "output_type": "execute_result"
    }
   ],
   "source": [
    "str1.index('a',-9,-4)"
   ]
  },
  {
   "cell_type": "code",
   "execution_count": 23,
   "id": "fc95a944-221f-4a51-a0f9-c9d2034ebb58",
   "metadata": {},
   "outputs": [
    {
     "data": {
      "text/plain": [
       "1"
      ]
     },
     "execution_count": 23,
     "metadata": {},
     "output_type": "execute_result"
    }
   ],
   "source": [
    "str1.index('a',-10,-4)"
   ]
  },
  {
   "cell_type": "code",
   "execution_count": 21,
   "id": "d9571d44-389f-4b12-9b62-298b033e63ce",
   "metadata": {},
   "outputs": [
    {
     "data": {
      "text/plain": [
       "2"
      ]
     },
     "execution_count": 21,
     "metadata": {},
     "output_type": "execute_result"
    }
   ],
   "source": [
    "str1.count('a',-10,-4)"
   ]
  },
  {
   "cell_type": "code",
   "execution_count": 25,
   "id": "ba8e2c85-1dec-42eb-9ceb-4d2a670229b9",
   "metadata": {},
   "outputs": [
    {
     "data": {
      "text/plain": [
       "1"
      ]
     },
     "execution_count": 25,
     "metadata": {},
     "output_type": "execute_result"
    }
   ],
   "source": [
    "str1.count('a',3,7)"
   ]
  },
  {
   "cell_type": "code",
   "execution_count": 27,
   "id": "96c71257-5dc7-4f23-aa0c-9152550f672b",
   "metadata": {},
   "outputs": [
    {
     "data": {
      "text/plain": [
       "3"
      ]
     },
     "execution_count": 27,
     "metadata": {},
     "output_type": "execute_result"
    }
   ],
   "source": [
    "str1.count('a')"
   ]
  },
  {
   "cell_type": "code",
   "execution_count": 29,
   "id": "f12aacc4-befc-4a96-8292-4db041e97003",
   "metadata": {},
   "outputs": [
    {
     "data": {
      "text/plain": [
       "2"
      ]
     },
     "execution_count": 29,
     "metadata": {},
     "output_type": "execute_result"
    }
   ],
   "source": [
    "str1.count(' ')"
   ]
  },
  {
   "cell_type": "code",
   "execution_count": 31,
   "id": "de7222cf-3bd0-4fb5-8208-b46dea2991e6",
   "metadata": {},
   "outputs": [
    {
     "data": {
      "text/plain": [
       "1"
      ]
     },
     "execution_count": 31,
     "metadata": {},
     "output_type": "execute_result"
    }
   ],
   "source": [
    "str1='hai hai hai'\n",
    "#i want to know all a indexes\n",
    "i1=str1.index('a')\n",
    "i1"
   ]
  },
  {
   "cell_type": "code",
   "execution_count": 33,
   "id": "e14e88cd-d881-4cb9-b273-4d197f7aebd7",
   "metadata": {},
   "outputs": [],
   "source": [
    "i2=str1.index('a',2)"
   ]
  },
  {
   "cell_type": "code",
   "execution_count": 35,
   "id": "8efd4106-31d7-42dd-aed7-195fa3cf6849",
   "metadata": {},
   "outputs": [
    {
     "name": "stdout",
     "output_type": "stream",
     "text": [
      "1\n",
      "5\n",
      "9\n"
     ]
    }
   ],
   "source": [
    "str1='hai hai hai'\n",
    "i1=str1.index('a')\n",
    "print(i1)\n",
    "i2=str1.index('a',i1+1)\n",
    "print(i2)\n",
    "i3=str1.index('a',i2+1)\n",
    "print(i3)"
   ]
  },
  {
   "cell_type": "code",
   "execution_count": 41,
   "id": "1af88f77-b70e-4068-b38d-ab3e26952f03",
   "metadata": {},
   "outputs": [
    {
     "name": "stdout",
     "output_type": "stream",
     "text": [
      "1\n",
      "5\n",
      "9\n"
     ]
    }
   ],
   "source": [
    "str1='hai hai hai'\n",
    "i1=str1.index('a')\n",
    "print(i1)\n",
    "i2=str1.index('a',2)\n",
    "print(i2)\n",
    "i3=str1.index('a',i3+1)\n",
    "print(i3)"
   ]
  },
  {
   "cell_type": "markdown",
   "id": "56e93865-5816-4214-82c1-e2b600b9186a",
   "metadata": {},
   "source": [
    "**Find**"
   ]
  },
  {
   "cell_type": "code",
   "execution_count": 44,
   "id": "a8d374d1-9fb7-4338-8d02-e809da55c559",
   "metadata": {},
   "outputs": [
    {
     "data": {
      "text/plain": [
       "1"
      ]
     },
     "execution_count": 44,
     "metadata": {},
     "output_type": "execute_result"
    }
   ],
   "source": [
    "str1='hai hai hai'\n",
    "str1.find('a')"
   ]
  },
  {
   "cell_type": "code",
   "execution_count": 46,
   "id": "0ffce106-79a4-4f33-9dab-679dd096e39b",
   "metadata": {},
   "outputs": [
    {
     "data": {
      "text/plain": [
       "0"
      ]
     },
     "execution_count": 46,
     "metadata": {},
     "output_type": "execute_result"
    }
   ],
   "source": [
    "str1.find('h')"
   ]
  },
  {
   "cell_type": "code",
   "execution_count": 48,
   "id": "2c170152-65be-4168-9b3e-f9dca5bf6a6b",
   "metadata": {},
   "outputs": [
    {
     "data": {
      "text/plain": [
       "5"
      ]
     },
     "execution_count": 48,
     "metadata": {},
     "output_type": "execute_result"
    }
   ],
   "source": [
    "str1.find('a',2)"
   ]
  },
  {
   "cell_type": "code",
   "execution_count": 50,
   "id": "39dc15aa-d3d3-48ba-8e4e-322d42bee1ca",
   "metadata": {},
   "outputs": [
    {
     "data": {
      "text/plain": [
       "5"
      ]
     },
     "execution_count": 50,
     "metadata": {},
     "output_type": "execute_result"
    }
   ],
   "source": [
    "str1.find('a',4)"
   ]
  },
  {
   "cell_type": "code",
   "execution_count": 52,
   "id": "284f0647-f2fc-4c47-a248-dda0809d9cf5",
   "metadata": {},
   "outputs": [
    {
     "data": {
      "text/plain": [
       "5"
      ]
     },
     "execution_count": 52,
     "metadata": {},
     "output_type": "execute_result"
    }
   ],
   "source": [
    "str1.find('a',5)"
   ]
  },
  {
   "cell_type": "code",
   "execution_count": 54,
   "id": "96344a81-a04f-4f68-bbb8-76803fcfe055",
   "metadata": {},
   "outputs": [
    {
     "data": {
      "text/plain": [
       "9"
      ]
     },
     "execution_count": 54,
     "metadata": {},
     "output_type": "execute_result"
    }
   ],
   "source": [
    "str1.find('a',6)"
   ]
  },
  {
   "cell_type": "code",
   "execution_count": 56,
   "id": "c91f74a5-809d-4fbb-a9dc-35b1485734be",
   "metadata": {},
   "outputs": [
    {
     "name": "stdout",
     "output_type": "stream",
     "text": [
      "1\n",
      "5\n",
      "9\n"
     ]
    }
   ],
   "source": [
    "str1='hai hai hai'\n",
    "i1=str1.find('a')\n",
    "print(i1)\n",
    "i2=str1.find('a',i1+1)\n",
    "print(i2)\n",
    "i3=str1.find('a',i2+1)\n",
    "print(i3)"
   ]
  },
  {
   "cell_type": "code",
   "execution_count": 58,
   "id": "7708e6a3-e97a-4222-9089-82f2f0c69c9a",
   "metadata": {},
   "outputs": [
    {
     "ename": "TypeError",
     "evalue": "index() takes at least 1 argument (0 given)",
     "output_type": "error",
     "traceback": [
      "\u001b[1;31m---------------------------------------------------------------------------\u001b[0m",
      "\u001b[1;31mTypeError\u001b[0m                                 Traceback (most recent call last)",
      "Cell \u001b[1;32mIn[58], line 1\u001b[0m\n\u001b[1;32m----> 1\u001b[0m str1\u001b[38;5;241m.\u001b[39mindex()\n",
      "\u001b[1;31mTypeError\u001b[0m: index() takes at least 1 argument (0 given)"
     ]
    }
   ],
   "source": [
    "str1.index()"
   ]
  },
  {
   "cell_type": "code",
   "execution_count": 60,
   "id": "8794e90c-95e5-43af-af4d-7c912b9bb6fe",
   "metadata": {},
   "outputs": [
    {
     "data": {
      "text/plain": [
       "0"
      ]
     },
     "execution_count": 60,
     "metadata": {},
     "output_type": "execute_result"
    }
   ],
   "source": [
    "str1='hai hai hai'\n",
    "str1.count('z')"
   ]
  },
  {
   "cell_type": "code",
   "execution_count": 62,
   "id": "141c86e1-3088-456e-8173-60f904492b94",
   "metadata": {},
   "outputs": [
    {
     "data": {
      "text/plain": [
       "'hai hai hai'"
      ]
     },
     "execution_count": 62,
     "metadata": {},
     "output_type": "execute_result"
    }
   ],
   "source": [
    "str1='hai hai hai'\n",
    "str1.replace('z','Z')"
   ]
  },
  {
   "cell_type": "markdown",
   "id": "cca7cbe6-45b4-4b8c-8703-9af1c6d55817",
   "metadata": {},
   "source": [
    "- If substring not found \n",
    "- count method will give zero\n",
    "- replace method will give original string\n",
    "- find will give -1\n"
   ]
  },
  {
   "cell_type": "code",
   "execution_count": 77,
   "id": "1a7a70ff-045c-4a26-a05b-83c2a20f2df9",
   "metadata": {},
   "outputs": [
    {
     "data": {
      "text/plain": [
       "2"
      ]
     },
     "execution_count": 77,
     "metadata": {},
     "output_type": "execute_result"
    }
   ],
   "source": [
    "str1='pratap.jujjavarapu@layola.com'\n",
    "str1.index('a')"
   ]
  },
  {
   "cell_type": "code",
   "execution_count": 79,
   "id": "a431c25b-a9b6-4fac-8a72-31c2983e66a7",
   "metadata": {},
   "outputs": [
    {
     "data": {
      "text/plain": [
       "6"
      ]
     },
     "execution_count": 79,
     "metadata": {},
     "output_type": "execute_result"
    }
   ],
   "source": [
    "str1.index('.')"
   ]
  },
  {
   "cell_type": "code",
   "execution_count": 89,
   "id": "d0b64ba7-b708-466d-8391-595f734c35d7",
   "metadata": {},
   "outputs": [
    {
     "ename": "SyntaxError",
     "evalue": "incomplete input (3235070075.py, line 8)",
     "output_type": "error",
     "traceback": [
      "\u001b[1;36m  Cell \u001b[1;32mIn[89], line 8\u001b[1;36m\u001b[0m\n\u001b[1;33m    second_name=str1[i1+\u001b[0m\n\u001b[1;37m                        ^\u001b[0m\n\u001b[1;31mSyntaxError\u001b[0m\u001b[1;31m:\u001b[0m incomplete input\n"
     ]
    }
   ],
   "source": [
    "str1='pratap.jujjavarapu@pbs'\n",
    "i1=str1.index('.')\n",
    "print(i1)\n",
    "i2=str1.index(i1+1)\n",
    "print(i2)\n",
    "i3=str1.index('@')\n",
    "first_name=str1[:i1]\n",
    "second_name=str1[i1+"
   ]
  },
  {
   "cell_type": "code",
   "execution_count": null,
   "id": "6a60772c-5ae2-401f-9c93-8043569ed0d7",
   "metadata": {},
   "outputs": [],
   "source": []
  }
 ],
 "metadata": {
  "kernelspec": {
   "display_name": "Python 3 (ipykernel)",
   "language": "python",
   "name": "python3"
  },
  "language_info": {
   "codemirror_mode": {
    "name": "ipython",
    "version": 3
   },
   "file_extension": ".py",
   "mimetype": "text/x-python",
   "name": "python",
   "nbconvert_exporter": "python",
   "pygments_lexer": "ipython3",
   "version": "3.12.4"
  }
 },
 "nbformat": 4,
 "nbformat_minor": 5
}
