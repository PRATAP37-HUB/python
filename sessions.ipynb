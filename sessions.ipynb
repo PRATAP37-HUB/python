{
 "cells": [
  {
   "cell_type": "code",
   "execution_count": 1,
   "id": "826e645c-e842-4d51-babb-0975a875a49a",
   "metadata": {},
   "outputs": [
    {
     "data": {
      "text/plain": [
       "['a', 'e', 'h', 'n', 'r', 's']"
      ]
     },
     "execution_count": 1,
     "metadata": {},
     "output_type": "execute_result"
    }
   ],
   "source": [
    "sorted('naresh')"
   ]
  },
  {
   "cell_type": "code",
   "execution_count": 7,
   "id": "40573547-cfa8-4550-8d2a-e3e75f51b8f2",
   "metadata": {},
   "outputs": [
    {
     "data": {
      "text/plain": [
       "['s', 'r', 'n', 'h', 'e', 'a']"
      ]
     },
     "execution_count": 7,
     "metadata": {},
     "output_type": "execute_result"
    }
   ],
   "source": [
    "sorted('naresh',reverse=True)"
   ]
  },
  {
   "cell_type": "raw",
   "id": "c1e0244e-d677-4ac6-a1e4-e114abef40eb",
   "metadata": {},
   "source": [
    "for i in reversed('naresh'):\n",
    "    print(i)"
   ]
  },
  {
   "cell_type": "markdown",
   "id": "68c639ba-e1f0-46b4-b9fc-c744b26a4913",
   "metadata": {},
   "source": [
    "**in**"
   ]
  },
  {
   "cell_type": "code",
   "execution_count": 10,
   "id": "4d237db4-39ef-4ae9-8261-4fddc778b17d",
   "metadata": {},
   "outputs": [
    {
     "data": {
      "text/plain": [
       "True"
      ]
     },
     "execution_count": 10,
     "metadata": {},
     "output_type": "execute_result"
    }
   ],
   "source": [
    "str1='naresh'\n",
    "'n' in str1"
   ]
  },
  {
   "cell_type": "code",
   "execution_count": 12,
   "id": "c53a66ff-9787-417c-9905-d4206b63fd2e",
   "metadata": {},
   "outputs": [
    {
     "name": "stdout",
     "output_type": "stream",
     "text": [
      "n\n",
      "a\n",
      "r\n",
      "e\n",
      "s\n",
      "h\n"
     ]
    }
   ],
   "source": [
    "for i in str1:\n",
    "    print(i)"
   ]
  },
  {
   "cell_type": "markdown",
   "id": "9c21d172-b58b-45a7-910d-763f3ab4fea8",
   "metadata": {},
   "source": [
    "**Note**"
   ]
  },
  {
   "cell_type": "markdown",
   "id": "822c8df3-bca7-42b8-a38a-77c985272c5f",
   "metadata": {},
   "source": [
    "- in operator directly aceeess the letters"
   ]
  },
  {
   "cell_type": "code",
   "execution_count": 20,
   "id": "ece74b46-90a6-4124-a868-02979db07154",
   "metadata": {},
   "outputs": [
    {
     "name": "stdout",
     "output_type": "stream",
     "text": [
      "3\n"
     ]
    }
   ],
   "source": [
    "# wap ask the user to count the no fo a in given string\n",
    "#str1='hai naresh how are you'\n",
    "#Idea: counter wrapper\n",
    "#step1-1: count=0\n",
    "#step-2: using for loop in operator iterate through given string\n",
    "#step-3: apply the if condition\n",
    "str1='hai naresh how are yoy'\n",
    "count=0\n",
    "for i in str1:\n",
    "    if i=='a':\n",
    "        count=count+1\n",
    "\n",
    "print(count)"
   ]
  },
  {
   "cell_type": "code",
   "execution_count": 30,
   "id": "fc130315-c820-4c9b-8f5d-a69ebf999b04",
   "metadata": {},
   "outputs": [
    {
     "name": "stdout",
     "output_type": "stream",
     "text": [
      "7\n"
     ]
    }
   ],
   "source": [
    "str2='hai how are you'\n",
    "count=0\n",
    "for i in str2:\n",
    "    if i in 'aeiou':\n",
    "        count=count+1\n",
    "\n",
    "print(count)"
   ]
  },
  {
   "cell_type": "code",
   "execution_count": null,
   "id": "1ed695c0-746a-4121-8b4a-a8e36b8c689d",
   "metadata": {},
   "outputs": [],
   "source": [
    "count=0\n",
    "str1='hai naresh hoe are you'\n",
    "str2=' '\n",
    "for i in str1:\n",
    "    "
   ]
  },
  {
   "cell_type": "code",
   "execution_count": 32,
   "id": "ce55d0b8-fa70-45a5-a2e8-d7c9db8587e3",
   "metadata": {},
   "outputs": [
    {
     "data": {
      "text/plain": [
       "' python'"
      ]
     },
     "execution_count": 32,
     "metadata": {},
     "output_type": "execute_result"
    }
   ],
   "source": [
    "s1='python'\n",
    "s2=' '\n",
    "for i in s1:\n",
    "    s2=s2+i\n",
    "\n",
    "s2"
   ]
  },
  {
   "cell_type": "markdown",
   "id": "0a890735-9a01-41f3-b1df-82f77cd067bd",
   "metadata": {},
   "source": [
    "**concadination**"
   ]
  },
  {
   "cell_type": "markdown",
   "id": "940bd959-eac3-4e79-ba5e-a5ae8d352ca7",
   "metadata": {},
   "source": [
    "**concatenation**"
   ]
  },
  {
   "cell_type": "code",
   "execution_count": 44,
   "id": "8a5ab8be-daab-4656-a965-786179e2d7e9",
   "metadata": {},
   "outputs": [
    {
     "data": {
      "text/plain": [
       "'hello  bye'"
      ]
     },
     "execution_count": 44,
     "metadata": {},
     "output_type": "execute_result"
    }
   ],
   "source": [
    "s1='hello '\n",
    "s2=' bye'\n",
    "s1+s2"
   ]
  },
  {
   "cell_type": "code",
   "execution_count": 54,
   "id": "b7806f6c-ec06-40a5-8529-7e8e850276ab",
   "metadata": {},
   "outputs": [
    {
     "data": {
      "text/plain": [
       "'hai how  are  you'"
      ]
     },
     "execution_count": 54,
     "metadata": {},
     "output_type": "execute_result"
    }
   ],
   "source": [
    "s1='hai '\n",
    "s2='how '\n",
    "s3=' are '\n",
    "s4= ' you'\n",
    "s5=s1+s2+s3+s4\n",
    "s5"
   ]
  },
  {
   "cell_type": "markdown",
   "id": "5f2534db-1912-4d6c-b5ef-0b74846a163e",
   "metadata": {},
   "source": []
  },
  {
   "cell_type": "code",
   "execution_count": 72,
   "id": "ce294932-5f4c-48ac-8fb4-6dafb4a553b4",
   "metadata": {},
   "outputs": [
    {
     "data": {
      "text/plain": [
       "'allall'"
      ]
     },
     "execution_count": 72,
     "metadata": {},
     "output_type": "execute_result"
    }
   ],
   "source": [
    "s1=2\n",
    "s2='all'\n",
    "s1*s2\n",
    "#s1/s2\n",
    "#s1-s2"
   ]
  },
  {
   "cell_type": "code",
   "execution_count": null,
   "id": "adf65964-3fe6-4d99-b5bd-c52c57d15ae7",
   "metadata": {},
   "outputs": [],
   "source": [
    "s1+s2===>s1*2"
   ]
  },
  {
   "cell_type": "markdown",
   "id": "3aca3a00-8227-4a0b-b154-478af6dc65f2",
   "metadata": {},
   "source": [
    "**Index Operations**\n",
    " - in python index meaning a number attached\n",
    " - index starts with zero\n",
    " - we have two directions\n",
    "       - positive direction\n",
    "       - negitive direction"
   ]
  },
  {
   "cell_type": "code",
   "execution_count": 80,
   "id": "721b280b-49d5-476a-a871-9895523e9f54",
   "metadata": {},
   "outputs": [
    {
     "data": {
      "text/plain": [
       "('p', 'y', 't', 'h', 'o', 'n')"
      ]
     },
     "execution_count": 80,
     "metadata": {},
     "output_type": "execute_result"
    }
   ],
   "source": [
    "s1='python'\n",
    "s1[0],s1[1],s1[2],s1[3],s1[4],s1[5]\n",
    "\n"
   ]
  },
  {
   "cell_type": "code",
   "execution_count": 84,
   "id": "01a3d09f-1cd0-4e4e-b156-12d59398d352",
   "metadata": {},
   "outputs": [
    {
     "ename": "TypeError",
     "evalue": "bad operand type for unary -: 'str'",
     "output_type": "error",
     "traceback": [
      "\u001b[1;31m---------------------------------------------------------------------------\u001b[0m",
      "\u001b[1;31mTypeError\u001b[0m                                 Traceback (most recent call last)",
      "Cell \u001b[1;32mIn[84], line 2\u001b[0m\n\u001b[0;32m      1\u001b[0m s1\u001b[38;5;241m=\u001b[39m\u001b[38;5;124m'\u001b[39m\u001b[38;5;124mpython\u001b[39m\u001b[38;5;124m'\u001b[39m\n\u001b[1;32m----> 2\u001b[0m s1[\u001b[38;5;241m-\u001b[39m\u001b[38;5;241m1\u001b[39m],s1[\u001b[38;5;241m-\u001b[39m\u001b[38;5;241m2\u001b[39m],s1[\u001b[38;5;241m-\u001b[39m\u001b[38;5;241m3\u001b[39m],s1[\u001b[38;5;241m-\u001b[39ms4]\n",
      "\u001b[1;31mTypeError\u001b[0m: bad operand type for unary -: 'str'"
     ]
    }
   ],
   "source": [
    "s1='python'\n",
    "s1[-1],s1[-2],s1[-3],s1[-s4]"
   ]
  },
  {
   "cell_type": "markdown",
   "id": "6bcb836e-42e4-48eb-99d4-0e0c395c23b3",
   "metadata": {},
   "source": [
    "**Count**"
   ]
  },
  {
   "cell_type": "code",
   "execution_count": 2,
   "id": "670de418-6799-46bf-b4bb-6618918c06f9",
   "metadata": {},
   "outputs": [
    {
     "ename": "TypeError",
     "evalue": "count() takes at least 1 argument (0 given)",
     "output_type": "error",
     "traceback": [
      "\u001b[1;31m---------------------------------------------------------------------------\u001b[0m",
      "\u001b[1;31mTypeError\u001b[0m                                 Traceback (most recent call last)",
      "Cell \u001b[1;32mIn[2], line 3\u001b[0m\n\u001b[0;32m      1\u001b[0m str1\u001b[38;5;241m=\u001b[39m\u001b[38;5;124m'\u001b[39m\u001b[38;5;124mhai how are you\u001b[39m\u001b[38;5;124m'\u001b[39m\n\u001b[0;32m      2\u001b[0m \u001b[38;5;66;03m# how many a's are there\u001b[39;00m\n\u001b[1;32m----> 3\u001b[0m str1\u001b[38;5;241m.\u001b[39mcount()\n",
      "\u001b[1;31mTypeError\u001b[0m: count() takes at least 1 argument (0 given)"
     ]
    }
   ],
   "source": [
    "str1='hai how are you'\n",
    "# how many a's are there\n",
    "str1.count()"
   ]
  },
  {
   "cell_type": "code",
   "execution_count": 6,
   "id": "e6e740fa-8d23-4ee4-80f4-3827d914a435",
   "metadata": {},
   "outputs": [
    {
     "data": {
      "text/plain": [
       "2"
      ]
     },
     "execution_count": 6,
     "metadata": {},
     "output_type": "execute_result"
    }
   ],
   "source": [
    "str1.count('a')"
   ]
  },
  {
   "cell_type": "code",
   "execution_count": 8,
   "id": "cd633854-bc97-4738-8713-f4fd30b8b0b4",
   "metadata": {},
   "outputs": [
    {
     "data": {
      "text/plain": [
       "1"
      ]
     },
     "execution_count": 8,
     "metadata": {},
     "output_type": "execute_result"
    }
   ],
   "source": [
    "str1.count('u')"
   ]
  },
  {
   "cell_type": "code",
   "execution_count": 10,
   "id": "28f0c465-b13f-48e4-8100-a908c9c74771",
   "metadata": {},
   "outputs": [
    {
     "data": {
      "text/plain": [
       "2"
      ]
     },
     "execution_count": 10,
     "metadata": {},
     "output_type": "execute_result"
    }
   ],
   "source": [
    "str1.count('h')"
   ]
  },
  {
   "cell_type": "code",
   "execution_count": 16,
   "id": "39d24c32-1e53-4671-8c0e-d99cf0d093a2",
   "metadata": {},
   "outputs": [
    {
     "data": {
      "text/plain": [
       "2"
      ]
     },
     "execution_count": 16,
     "metadata": {},
     "output_type": "execute_result"
    }
   ],
   "source": [
    "str1='hai hai hai'\n",
    "str1.count('a',4)"
   ]
  },
  {
   "cell_type": "code",
   "execution_count": 18,
   "id": "17bde71b-2bb5-4910-83f5-dfc7e51c52a7",
   "metadata": {},
   "outputs": [
    {
     "data": {
      "text/plain": [
       "1"
      ]
     },
     "execution_count": 18,
     "metadata": {},
     "output_type": "execute_result"
    }
   ],
   "source": [
    "str1.count('h',7)"
   ]
  },
  {
   "cell_type": "code",
   "execution_count": 22,
   "id": "af3e360f-6d5d-482f-a2e5-3b839d58ac96",
   "metadata": {},
   "outputs": [
    {
     "data": {
      "text/plain": [
       "2"
      ]
     },
     "execution_count": 22,
     "metadata": {},
     "output_type": "execute_result"
    }
   ],
   "source": [
    "str1.count('i',2,7)"
   ]
  },
  {
   "cell_type": "markdown",
   "id": "7cc60ccc-45c5-4e23-bcb4-828016a3393a",
   "metadata": {},
   "source": [
    "str1.count(a,2,5)"
   ]
  },
  {
   "cell_type": "code",
   "execution_count": 25,
   "id": "45bd8111-1a34-4f3b-a8b6-37c0d9778514",
   "metadata": {},
   "outputs": [
    {
     "data": {
      "text/plain": [
       "1"
      ]
     },
     "execution_count": 25,
     "metadata": {},
     "output_type": "execute_result"
    }
   ],
   "source": [
    "str1.count('a',3,7)"
   ]
  },
  {
   "cell_type": "code",
   "execution_count": 27,
   "id": "a0db7c61-9249-48a4-b98f-7484d79c24a3",
   "metadata": {},
   "outputs": [
    {
     "data": {
      "text/plain": [
       "3"
      ]
     },
     "execution_count": 27,
     "metadata": {},
     "output_type": "execute_result"
    }
   ],
   "source": [
    "str1='ola ola ola'\n",
    "str1.count('ola')"
   ]
  },
  {
   "cell_type": "markdown",
   "id": "0e4eef3a-a15d-466b-bb0d-beb4e33fe4ff",
   "metadata": {},
   "source": [
    "**Window Method**"
   ]
  },
  {
   "cell_type": "code",
   "execution_count": 36,
   "id": "f27f7882-6cc0-468c-9a7a-0befaac75faa",
   "metadata": {},
   "outputs": [
    {
     "data": {
      "text/plain": [
       "3"
      ]
     },
     "execution_count": 36,
     "metadata": {},
     "output_type": "execute_result"
    }
   ],
   "source": [
    "str1='ola ola ola'\n",
    "count=0\n",
    "for i in range(len(str1)):\n",
    "    if str1[i:i+3]=='ola':\n",
    "        count=count+1\n",
    "str1.count('ola') \n",
    "str1."
   ]
  },
  {
   "cell_type": "code",
   "execution_count": 40,
   "id": "b0e2c41a-42c7-43e9-bcb3-7e910d3e1f3d",
   "metadata": {},
   "outputs": [
    {
     "data": {
      "text/plain": [
       "0"
      ]
     },
     "execution_count": 40,
     "metadata": {},
     "output_type": "execute_result"
    }
   ],
   "source": [
    "str1.count('ol ')"
   ]
  },
  {
   "cell_type": "code",
   "execution_count": 42,
   "id": "d7a9effb-1db3-4129-9a64-63032a87d6fe",
   "metadata": {},
   "outputs": [
    {
     "data": {
      "text/plain": [
       "3"
      ]
     },
     "execution_count": 42,
     "metadata": {},
     "output_type": "execute_result"
    }
   ],
   "source": [
    "str1.count('ol')"
   ]
  },
  {
   "cell_type": "code",
   "execution_count": 44,
   "id": "33aa4343-8f44-4f65-bb05-5ee879f63f91",
   "metadata": {},
   "outputs": [
    {
     "data": {
      "text/plain": [
       "2"
      ]
     },
     "execution_count": 44,
     "metadata": {},
     "output_type": "execute_result"
    }
   ],
   "source": [
    "str1.count('la ')"
   ]
  },
  {
   "cell_type": "code",
   "execution_count": 46,
   "id": "b5dd7126-ee1b-45f9-a678-06f02f29d421",
   "metadata": {},
   "outputs": [
    {
     "data": {
      "text/plain": [
       "0"
      ]
     },
     "execution_count": 46,
     "metadata": {},
     "output_type": "execute_result"
    }
   ],
   "source": [
    "str1.count('z')"
   ]
  },
  {
   "cell_type": "markdown",
   "id": "291e7443-18f1-4e23-a3a2-68fdc3dece85",
   "metadata": {},
   "source": [
    "**Replace**"
   ]
  },
  {
   "cell_type": "code",
   "execution_count": 49,
   "id": "4fee6ab7-e995-4772-b5ba-7d7e48527d5d",
   "metadata": {},
   "outputs": [
    {
     "data": {
      "text/plain": [
       "'weLcome'"
      ]
     },
     "execution_count": 49,
     "metadata": {},
     "output_type": "execute_result"
    }
   ],
   "source": [
    "str1='welcome'\n",
    "s1=str1[0:2]\n",
    "s2=str1[3:]\n",
    "s1+'L'+s2"
   ]
  },
  {
   "cell_type": "code",
   "execution_count": 51,
   "id": "803d539d-4503-4f46-be5c-5dc2f7d7556b",
   "metadata": {},
   "outputs": [
    {
     "data": {
      "text/plain": [
       "'weLcome'"
      ]
     },
     "execution_count": 51,
     "metadata": {},
     "output_type": "execute_result"
    }
   ],
   "source": [
    "str1='welcome'\n",
    "str1.replace('l','L')"
   ]
  },
  {
   "cell_type": "code",
   "execution_count": 59,
   "id": "6117f264-bf63-4a1f-b113-d2b20201ef13",
   "metadata": {},
   "outputs": [
    {
     "data": {
      "text/plain": [
       "'weLCome'"
      ]
     },
     "execution_count": 59,
     "metadata": {},
     "output_type": "execute_result"
    }
   ],
   "source": [
    "str1='welcome'\n",
    "str1.replace('lc','LC')"
   ]
  },
  {
   "cell_type": "markdown",
   "id": "dc7c82dc-4a7f-4b06-b1a6-88933bc841f9",
   "metadata": {},
   "source": [
    "# "
   ]
  },
  {
   "cell_type": "code",
   "execution_count": 63,
   "id": "fd301aad-d983-4465-802c-1b7bc824b701",
   "metadata": {},
   "outputs": [
    {
     "data": {
      "text/plain": [
       "'weLLlcome'"
      ]
     },
     "execution_count": 63,
     "metadata": {},
     "output_type": "execute_result"
    }
   ],
   "source": [
    "str1='welllcome'\n",
    "str1.replace('l','L',2)"
   ]
  },
  {
   "cell_type": "code",
   "execution_count": 65,
   "id": "c43a7e49-46fa-4432-a50e-5cb82cb45b3b",
   "metadata": {},
   "outputs": [
    {
     "data": {
      "text/plain": [
       "'wElllcomE'"
      ]
     },
     "execution_count": 65,
     "metadata": {},
     "output_type": "execute_result"
    }
   ],
   "source": [
    "str1.replace('e','E',2)"
   ]
  },
  {
   "cell_type": "code",
   "execution_count": 67,
   "id": "6b8f4614-a732-42e0-b165-3bf18024400f",
   "metadata": {},
   "outputs": [
    {
     "data": {
      "text/plain": [
       "'$esta$t'"
      ]
     },
     "execution_count": 67,
     "metadata": {},
     "output_type": "execute_result"
    }
   ],
   "source": [
    "str1='restart'\n",
    "str1.replace('r','$')"
   ]
  },
  {
   "cell_type": "code",
   "execution_count": 69,
   "id": "33bff0ba-cda2-4866-88ca-2424c947e765",
   "metadata": {},
   "outputs": [
    {
     "data": {
      "text/plain": [
       "'$esta$t'"
      ]
     },
     "execution_count": 69,
     "metadata": {},
     "output_type": "execute_result"
    }
   ],
   "source": [
    "str1.replace('r','$',2)"
   ]
  },
  {
   "cell_type": "code",
   "execution_count": 73,
   "id": "ef3a3d7d-b091-4711-a8e2-291ab0949db5",
   "metadata": {},
   "outputs": [
    {
     "data": {
      "text/plain": [
       "'rest$t'"
      ]
     },
     "execution_count": 73,
     "metadata": {},
     "output_type": "execute_result"
    }
   ],
   "source": [
    "str1='restart'\n",
    "s1=str1[:1]\n",
    "s2=str1[1:]\n",
    "s3=s2.replace('r','$')\n",
    "s1+s3"
   ]
  },
  {
   "cell_type": "code",
   "execution_count": 75,
   "id": "79703a60-0279-48af-ad0c-28fe6b5bad53",
   "metadata": {},
   "outputs": [
    {
     "data": {
      "text/plain": [
       "'resta$t'"
      ]
     },
     "execution_count": 75,
     "metadata": {},
     "output_type": "execute_result"
    }
   ],
   "source": [
    "str1='restart'\n",
    "str1[::-1].replace('r','$',1)[::-1]"
   ]
  },
  {
   "cell_type": "markdown",
   "id": "b6c3b54a-8da9-40c3-b3c7-7bd087c093e2",
   "metadata": {},
   "source": [
    "**Index-Find**"
   ]
  },
  {
   "cell_type": "code",
   "execution_count": 78,
   "id": "d66927cd-273e-4e7d-b947-f3adfd8312f7",
   "metadata": {},
   "outputs": [
    {
     "data": {
      "text/plain": [
       "False"
      ]
     },
     "execution_count": 78,
     "metadata": {},
     "output_type": "execute_result"
    }
   ],
   "source": [
    "str1='HELLO'\n",
    "str1.isupper()\n",
    "str1.islower()"
   ]
  },
  {
   "cell_type": "code",
   "execution_count": 86,
   "id": "3db785cb-0b19-40eb-9d25-eff47c555e07",
   "metadata": {},
   "outputs": [
    {
     "data": {
      "text/plain": [
       "True"
      ]
     },
     "execution_count": 86,
     "metadata": {},
     "output_type": "execute_result"
    }
   ],
   "source": [
    "str1=\"hai\"\n",
    "str1.isalnum()"
   ]
  },
  {
   "cell_type": "code",
   "execution_count": 88,
   "id": "3432422e-4672-451a-9a57-d0256f1482b3",
   "metadata": {},
   "outputs": [
    {
     "data": {
      "text/plain": [
       "True"
      ]
     },
     "execution_count": 88,
     "metadata": {},
     "output_type": "execute_result"
    }
   ],
   "source": [
    "str1='welcome'\n",
    "str1.isalpha()"
   ]
  },
  {
   "cell_type": "code",
   "execution_count": 90,
   "id": "83e02586-26f9-4abd-9fb3-e4735be8fbd3",
   "metadata": {},
   "outputs": [
    {
     "data": {
      "text/plain": [
       "True"
      ]
     },
     "execution_count": 90,
     "metadata": {},
     "output_type": "execute_result"
    }
   ],
   "source": [
    "str1='how are you'\n",
    "str1.isascii()"
   ]
  },
  {
   "cell_type": "code",
   "execution_count": 92,
   "id": "ad5ce9ce-4059-488e-b68e-977ebcc1e69f",
   "metadata": {},
   "outputs": [
    {
     "data": {
      "text/plain": [
       "False"
      ]
     },
     "execution_count": 92,
     "metadata": {},
     "output_type": "execute_result"
    }
   ],
   "source": [
    "str1='what are you doing'\n",
    "str1.isdecimal()"
   ]
  },
  {
   "cell_type": "code",
   "execution_count": 94,
   "id": "278f4821-4a6a-4307-8410-842c77cfed32",
   "metadata": {},
   "outputs": [
    {
     "data": {
      "text/plain": [
       "False"
      ]
     },
     "execution_count": 94,
     "metadata": {},
     "output_type": "execute_result"
    }
   ],
   "source": [
    "str1.isdigit()"
   ]
  },
  {
   "cell_type": "code",
   "execution_count": 96,
   "id": "52a12232-8ff1-45b4-823c-b7cad26b5ea0",
   "metadata": {},
   "outputs": [
    {
     "data": {
      "text/plain": [
       "False"
      ]
     },
     "execution_count": 96,
     "metadata": {},
     "output_type": "execute_result"
    }
   ],
   "source": [
    "str1.isidentifier()"
   ]
  },
  {
   "cell_type": "code",
   "execution_count": 98,
   "id": "e55e3a52-5510-463a-8cd8-540f836e4b1c",
   "metadata": {},
   "outputs": [
    {
     "data": {
      "text/plain": [
       "True"
      ]
     },
     "execution_count": 98,
     "metadata": {},
     "output_type": "execute_result"
    }
   ],
   "source": [
    "str1.islower()"
   ]
  },
  {
   "cell_type": "code",
   "execution_count": 100,
   "id": "55754050-4b7f-480c-9a0d-9682bf1b2bbb",
   "metadata": {},
   "outputs": [
    {
     "data": {
      "text/plain": [
       "False"
      ]
     },
     "execution_count": 100,
     "metadata": {},
     "output_type": "execute_result"
    }
   ],
   "source": [
    "str1.isnumeric()"
   ]
  },
  {
   "cell_type": "code",
   "execution_count": 102,
   "id": "4fcf6668-a956-4a60-b354-4ff0e2c6b376",
   "metadata": {},
   "outputs": [
    {
     "data": {
      "text/plain": [
       "True"
      ]
     },
     "execution_count": 102,
     "metadata": {},
     "output_type": "execute_result"
    }
   ],
   "source": [
    "str1.isprintable()"
   ]
  },
  {
   "cell_type": "code",
   "execution_count": 104,
   "id": "392e28ac-bd69-4792-a265-c8a96a50527a",
   "metadata": {},
   "outputs": [
    {
     "data": {
      "text/plain": [
       "False"
      ]
     },
     "execution_count": 104,
     "metadata": {},
     "output_type": "execute_result"
    }
   ],
   "source": [
    "str1.isspace()"
   ]
  },
  {
   "cell_type": "code",
   "execution_count": 106,
   "id": "44fff7b4-a8e9-4b04-a4af-e3a93e0c2dfc",
   "metadata": {},
   "outputs": [
    {
     "data": {
      "text/plain": [
       "False"
      ]
     },
     "execution_count": 106,
     "metadata": {},
     "output_type": "execute_result"
    }
   ],
   "source": [
    "str1.isspace()"
   ]
  },
  {
   "cell_type": "code",
   "execution_count": 108,
   "id": "832711ca-8ced-4485-92ca-1acb70a9ae5a",
   "metadata": {},
   "outputs": [
    {
     "data": {
      "text/plain": [
       "False"
      ]
     },
     "execution_count": 108,
     "metadata": {},
     "output_type": "execute_result"
    }
   ],
   "source": [
    "str1.istitle()"
   ]
  },
  {
   "cell_type": "code",
   "execution_count": 110,
   "id": "299f53db-5187-4ecb-adb6-5046c5c3db0b",
   "metadata": {},
   "outputs": [
    {
     "data": {
      "text/plain": [
       "False"
      ]
     },
     "execution_count": 110,
     "metadata": {},
     "output_type": "execute_result"
    }
   ],
   "source": [
    "str1.isupper()"
   ]
  },
  {
   "cell_type": "code",
   "execution_count": null,
   "id": "6e88369f-7ff6-4ada-9218-34e3b85856c3",
   "metadata": {},
   "outputs": [],
   "source": []
  }
 ],
 "metadata": {
  "kernelspec": {
   "display_name": "Python 3 (ipykernel)",
   "language": "python",
   "name": "python3"
  },
  "language_info": {
   "codemirror_mode": {
    "name": "ipython",
    "version": 3
   },
   "file_extension": ".py",
   "mimetype": "text/x-python",
   "name": "python",
   "nbconvert_exporter": "python",
   "pygments_lexer": "ipython3",
   "version": "3.12.4"
  }
 },
 "nbformat": 4,
 "nbformat_minor": 5
}
